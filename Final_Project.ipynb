{
  "cells": [
    {
      "cell_type": "markdown",
      "metadata": {
        "id": "AAOZvUvekllW"
      },
      "source": [
        "# Final Project\n",
        "# “Artificial Intelligence - Wind Power Generation Forecasting”\n",
        "\n",
        "**Load libraries**"
      ]
    },
    {
      "cell_type": "code",
      "execution_count": 1,
      "metadata": {
        "id": "9hf6aUh7klla"
      },
      "outputs": [],
      "source": [
        "# Import all your libraries only in this cell\n",
        "import matplotlib.pyplot as plt\n",
        "import numpy as np\n",
        "import pandas as pd\n",
        "import seaborn as sns\n",
        "\n",
        "#Make Numpy printout easier to read\n",
        "np.set_printoptions(precision=3, suppress=True)\n"
      ]
    },
    {
      "cell_type": "markdown",
      "source": [
        ""
      ],
      "metadata": {
        "id": "Rf-SFiKhoXCc"
      }
    },
    {
      "cell_type": "code",
      "source": [
        "#tensorflow libraries\n",
        "import tensorflow as tf\n",
        "from tensorflow import keras\n",
        "from tensorflow.keras import layers\n",
        "\n",
        "import datetime\n",
        "from tensorboard.plugins.hparams import api as hp"
      ],
      "metadata": {
        "id": "aIuzUHUHlWA8"
      },
      "execution_count": 2,
      "outputs": []
    },
    {
      "cell_type": "markdown",
      "metadata": {
        "id": "OJxhfAg-kllb"
      },
      "source": [
        "**Load datasets**"
      ]
    },
    {
      "cell_type": "code",
      "execution_count": 3,
      "metadata": {
        "id": "fIA2wH0pkllb",
        "outputId": "782e231d-2115-4381-8ee3-0b2ba338acea",
        "colab": {
          "resources": {
            "http://localhost:8080/nbextensions/google.colab/files.js": {
              "data": "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",
              "ok": true,
              "headers": [
                [
                  "content-type",
                  "application/javascript"
                ]
              ],
              "status": 200,
              "status_text": ""
            }
          },
          "base_uri": "https://localhost:8080/",
          "height": 95
        }
      },
      "outputs": [
        {
          "output_type": "display_data",
          "data": {
            "text/plain": [
              "<IPython.core.display.HTML object>"
            ],
            "text/html": [
              "\n",
              "     <input type=\"file\" id=\"files-940d6787-7975-4224-81c1-365b209dc007\" name=\"files[]\" multiple disabled\n",
              "        style=\"border:none\" />\n",
              "     <output id=\"result-940d6787-7975-4224-81c1-365b209dc007\">\n",
              "      Upload widget is only available when the cell has been executed in the\n",
              "      current browser session. Please rerun this cell to enable.\n",
              "      </output>\n",
              "      <script src=\"/nbextensions/google.colab/files.js\"></script> "
            ]
          },
          "metadata": {}
        },
        {
          "output_type": "stream",
          "name": "stdout",
          "text": [
            "Saving kaggle.json to kaggle.json\n",
            "User uploade file 'kaggle.json' with length 66 bytes\n"
          ]
        }
      ],
      "source": [
        "## First way~~~ Kaggle API\n",
        "## Connect to kaggle\n",
        "from google.colab import files\n",
        "uploaded = files.upload()\n",
        "\n",
        "for fn in uploaded.keys():\n",
        "  print(\"User uploade file '{name}' with length {length} bytes\".format(name=fn,\n",
        "        length = len(uploaded[fn])))\n",
        "!mkdir -p ~/.kaggle/ && mv kaggle.json ~/.kaggle/ && chmod 600 ~/.kaggle/kaggle.json\n",
        "\n"
      ]
    },
    {
      "cell_type": "code",
      "execution_count": 4,
      "metadata": {
        "id": "OJS90p7Ukllc",
        "outputId": "f57d9a1a-8f86-4199-957f-68f7978a449d",
        "colab": {
          "base_uri": "https://localhost:8080/"
        }
      },
      "outputs": [
        {
          "output_type": "stream",
          "name": "stdout",
          "text": [
            "name                  size  creationDate         \n",
            "-------------------  -----  -------------------  \n",
            "test.csv             153KB  2022-04-13 13:53:44  \n",
            "train.csv            836KB  2022-04-13 13:53:44  \n",
            "sample_solution.csv   89KB  2022-04-13 13:53:44  \n"
          ]
        }
      ],
      "source": [
        "#Check the files \n",
        "!kaggle competitions files aifpc2022"
      ]
    },
    {
      "cell_type": "code",
      "execution_count": 5,
      "metadata": {
        "id": "ZR1ACth0kllc",
        "outputId": "ae549de7-237a-454e-f47f-0d025c79adf6",
        "colab": {
          "base_uri": "https://localhost:8080/"
        }
      },
      "outputs": [
        {
          "output_type": "stream",
          "name": "stdout",
          "text": [
            "Downloading aifpc2022.zip to /content\n",
            "\r  0% 0.00/280k [00:00<?, ?B/s]\n",
            "\r100% 280k/280k [00:00<00:00, 26.4MB/s]\n"
          ]
        }
      ],
      "source": [
        "#download the dataset\n",
        "!kaggle competitions download -c aifpc2022"
      ]
    },
    {
      "cell_type": "code",
      "execution_count": 6,
      "metadata": {
        "id": "0fx0jf7-kllc",
        "outputId": "8434ad34-6cbd-4f10-aa3e-fe646932b91f",
        "colab": {
          "base_uri": "https://localhost:8080/"
        }
      },
      "outputs": [
        {
          "output_type": "stream",
          "name": "stdout",
          "text": [
            "\n",
            "7-Zip (a) [64] 16.02 : Copyright (c) 1999-2016 Igor Pavlov : 2016-05-21\n",
            "p7zip Version 16.02 (locale=en_US.UTF-8,Utf16=on,HugeFiles=on,64 bits,2 CPUs Intel(R) Xeon(R) CPU @ 2.20GHz (406F0),ASM,AES-NI)\n",
            "\n",
            "Scanning the drive for archives:\n",
            "  0M Scan\b\b\b\b\b\b\b\b\b         \b\b\b\b\b\b\b\b\b1 file, 286618 bytes (280 KiB)\n",
            "\n",
            "Extracting archive: aifpc2022.zip\n",
            "--\n",
            "Path = aifpc2022.zip\n",
            "Type = zip\n",
            "Physical Size = 286618\n",
            "\n",
            "  0%\b\b\b\b    \b\b\b\bEverything is Ok\n",
            "\n",
            "Size:       855865\n",
            "Compressed: 286618\n",
            "\n",
            "7-Zip (a) [64] 16.02 : Copyright (c) 1999-2016 Igor Pavlov : 2016-05-21\n",
            "p7zip Version 16.02 (locale=en_US.UTF-8,Utf16=on,HugeFiles=on,64 bits,2 CPUs Intel(R) Xeon(R) CPU @ 2.20GHz (406F0),ASM,AES-NI)\n",
            "\n",
            "Scanning the drive for archives:\n",
            "  0M Scan\b\b\b\b\b\b\b\b\b         \b\b\b\b\b\b\b\b\b1 file, 286618 bytes (280 KiB)\n",
            "\n",
            "Extracting archive: aifpc2022.zip\n",
            "--\n",
            "Path = aifpc2022.zip\n",
            "Type = zip\n",
            "Physical Size = 286618\n",
            "\n",
            "  0%\b\b\b\b    \b\b\b\bEverything is Ok\n",
            "\n",
            "Size:       157175\n",
            "Compressed: 286618\n"
          ]
        }
      ],
      "source": [
        "#unzip files\n",
        "!7za e aifpc2022.zip \"train.csv\"\n",
        "!7za e aifpc2022.zip \"test.csv\""
      ]
    },
    {
      "cell_type": "code",
      "source": [
        "# load files\n",
        "train_df = pd.read_csv('train.csv')\n",
        "test_df = pd.read_csv('test.csv')"
      ],
      "metadata": {
        "id": "dpKJTrM_qtb4"
      },
      "execution_count": 7,
      "outputs": []
    },
    {
      "cell_type": "markdown",
      "source": [
        "### second way"
      ],
      "metadata": {
        "id": "GwL7PVIGq8ow"
      }
    },
    {
      "cell_type": "code",
      "source": [
        "#1 .- Download data from kaggle website\n",
        "#2 .- Load data to drive.google.com\n",
        "# connect goolge drive\n",
        "from google.colab import drive\n",
        "drive.mount('/content/drive')"
      ],
      "metadata": {
        "id": "P4sFel91q5yu",
        "colab": {
          "base_uri": "https://localhost:8080/"
        },
        "outputId": "7d1d9558-2c6e-4bcf-d8c1-fe3761633af7"
      },
      "execution_count": 142,
      "outputs": [
        {
          "output_type": "stream",
          "name": "stdout",
          "text": [
            "Drive already mounted at /content/drive; to attempt to forcibly remount, call drive.mount(\"/content/drive\", force_remount=True).\n"
          ]
        }
      ]
    },
    {
      "cell_type": "code",
      "source": [
        "#load dataset\n",
        "train_df = pd.read_csv(\"/content/train.csv\")\n",
        "test_df = pd.read_csv(\"/content/test.csv\")"
      ],
      "metadata": {
        "id": "DeOqsUDtq509"
      },
      "execution_count": 143,
      "outputs": []
    },
    {
      "cell_type": "code",
      "source": [
        "dataset=train_df.copy()\n",
        "dataset.tail()"
      ],
      "metadata": {
        "colab": {
          "base_uri": "https://localhost:8080/",
          "height": 250
        },
        "id": "vItf2dXRYUIw",
        "outputId": "896ee514-eb2e-4de3-a6bb-5f1dba9220fc"
      },
      "execution_count": 144,
      "outputs": [
        {
          "output_type": "execute_result",
          "data": {
            "text/plain": [
              "          ID        Date      Time  Wind_Energy_1  Wind_Energy_2  \\\n",
              "25148  25149  12/31/2020     20:00            0.0            0.3   \n",
              "25149  25150  12/31/2020     21:00            0.0            0.0   \n",
              "25150  25151  12/31/2020     22:00            0.0            0.4   \n",
              "25151  25152  12/31/2020     23:00            0.0            0.0   \n",
              "25152  25153  12/31/2020  24:00:00            0.0            0.0   \n",
              "\n",
              "       Wind_Energy_3  \n",
              "25148            1.6  \n",
              "25149            1.2  \n",
              "25150            2.1  \n",
              "25151            2.2  \n",
              "25152            2.6  "
            ],
            "text/html": [
              "\n",
              "  <div id=\"df-4134f2b3-e038-4d5e-8fdd-4a00eda0a03b\">\n",
              "    <div class=\"colab-df-container\">\n",
              "      <div>\n",
              "<style scoped>\n",
              "    .dataframe tbody tr th:only-of-type {\n",
              "        vertical-align: middle;\n",
              "    }\n",
              "\n",
              "    .dataframe tbody tr th {\n",
              "        vertical-align: top;\n",
              "    }\n",
              "\n",
              "    .dataframe thead th {\n",
              "        text-align: right;\n",
              "    }\n",
              "</style>\n",
              "<table border=\"1\" class=\"dataframe\">\n",
              "  <thead>\n",
              "    <tr style=\"text-align: right;\">\n",
              "      <th></th>\n",
              "      <th>ID</th>\n",
              "      <th>Date</th>\n",
              "      <th>Time</th>\n",
              "      <th>Wind_Energy_1</th>\n",
              "      <th>Wind_Energy_2</th>\n",
              "      <th>Wind_Energy_3</th>\n",
              "    </tr>\n",
              "  </thead>\n",
              "  <tbody>\n",
              "    <tr>\n",
              "      <th>25148</th>\n",
              "      <td>25149</td>\n",
              "      <td>12/31/2020</td>\n",
              "      <td>20:00</td>\n",
              "      <td>0.0</td>\n",
              "      <td>0.3</td>\n",
              "      <td>1.6</td>\n",
              "    </tr>\n",
              "    <tr>\n",
              "      <th>25149</th>\n",
              "      <td>25150</td>\n",
              "      <td>12/31/2020</td>\n",
              "      <td>21:00</td>\n",
              "      <td>0.0</td>\n",
              "      <td>0.0</td>\n",
              "      <td>1.2</td>\n",
              "    </tr>\n",
              "    <tr>\n",
              "      <th>25150</th>\n",
              "      <td>25151</td>\n",
              "      <td>12/31/2020</td>\n",
              "      <td>22:00</td>\n",
              "      <td>0.0</td>\n",
              "      <td>0.4</td>\n",
              "      <td>2.1</td>\n",
              "    </tr>\n",
              "    <tr>\n",
              "      <th>25151</th>\n",
              "      <td>25152</td>\n",
              "      <td>12/31/2020</td>\n",
              "      <td>23:00</td>\n",
              "      <td>0.0</td>\n",
              "      <td>0.0</td>\n",
              "      <td>2.2</td>\n",
              "    </tr>\n",
              "    <tr>\n",
              "      <th>25152</th>\n",
              "      <td>25153</td>\n",
              "      <td>12/31/2020</td>\n",
              "      <td>24:00:00</td>\n",
              "      <td>0.0</td>\n",
              "      <td>0.0</td>\n",
              "      <td>2.6</td>\n",
              "    </tr>\n",
              "  </tbody>\n",
              "</table>\n",
              "</div>\n",
              "      <button class=\"colab-df-convert\" onclick=\"convertToInteractive('df-4134f2b3-e038-4d5e-8fdd-4a00eda0a03b')\"\n",
              "              title=\"Convert this dataframe to an interactive table.\"\n",
              "              style=\"display:none;\">\n",
              "        \n",
              "  <svg xmlns=\"http://www.w3.org/2000/svg\" height=\"24px\"viewBox=\"0 0 24 24\"\n",
              "       width=\"24px\">\n",
              "    <path d=\"M0 0h24v24H0V0z\" fill=\"none\"/>\n",
              "    <path d=\"M18.56 5.44l.94 2.06.94-2.06 2.06-.94-2.06-.94-.94-2.06-.94 2.06-2.06.94zm-11 1L8.5 8.5l.94-2.06 2.06-.94-2.06-.94L8.5 2.5l-.94 2.06-2.06.94zm10 10l.94 2.06.94-2.06 2.06-.94-2.06-.94-.94-2.06-.94 2.06-2.06.94z\"/><path d=\"M17.41 7.96l-1.37-1.37c-.4-.4-.92-.59-1.43-.59-.52 0-1.04.2-1.43.59L10.3 9.45l-7.72 7.72c-.78.78-.78 2.05 0 2.83L4 21.41c.39.39.9.59 1.41.59.51 0 1.02-.2 1.41-.59l7.78-7.78 2.81-2.81c.8-.78.8-2.07 0-2.86zM5.41 20L4 18.59l7.72-7.72 1.47 1.35L5.41 20z\"/>\n",
              "  </svg>\n",
              "      </button>\n",
              "      \n",
              "  <style>\n",
              "    .colab-df-container {\n",
              "      display:flex;\n",
              "      flex-wrap:wrap;\n",
              "      gap: 12px;\n",
              "    }\n",
              "\n",
              "    .colab-df-convert {\n",
              "      background-color: #E8F0FE;\n",
              "      border: none;\n",
              "      border-radius: 50%;\n",
              "      cursor: pointer;\n",
              "      display: none;\n",
              "      fill: #1967D2;\n",
              "      height: 32px;\n",
              "      padding: 0 0 0 0;\n",
              "      width: 32px;\n",
              "    }\n",
              "\n",
              "    .colab-df-convert:hover {\n",
              "      background-color: #E2EBFA;\n",
              "      box-shadow: 0px 1px 2px rgba(60, 64, 67, 0.3), 0px 1px 3px 1px rgba(60, 64, 67, 0.15);\n",
              "      fill: #174EA6;\n",
              "    }\n",
              "\n",
              "    [theme=dark] .colab-df-convert {\n",
              "      background-color: #3B4455;\n",
              "      fill: #D2E3FC;\n",
              "    }\n",
              "\n",
              "    [theme=dark] .colab-df-convert:hover {\n",
              "      background-color: #434B5C;\n",
              "      box-shadow: 0px 1px 3px 1px rgba(0, 0, 0, 0.15);\n",
              "      filter: drop-shadow(0px 1px 2px rgba(0, 0, 0, 0.3));\n",
              "      fill: #FFFFFF;\n",
              "    }\n",
              "  </style>\n",
              "\n",
              "      <script>\n",
              "        const buttonEl =\n",
              "          document.querySelector('#df-4134f2b3-e038-4d5e-8fdd-4a00eda0a03b button.colab-df-convert');\n",
              "        buttonEl.style.display =\n",
              "          google.colab.kernel.accessAllowed ? 'block' : 'none';\n",
              "\n",
              "        async function convertToInteractive(key) {\n",
              "          const element = document.querySelector('#df-4134f2b3-e038-4d5e-8fdd-4a00eda0a03b');\n",
              "          const dataTable =\n",
              "            await google.colab.kernel.invokeFunction('convertToInteractive',\n",
              "                                                     [key], {});\n",
              "          if (!dataTable) return;\n",
              "\n",
              "          const docLinkHtml = 'Like what you see? Visit the ' +\n",
              "            '<a target=\"_blank\" href=https://colab.research.google.com/notebooks/data_table.ipynb>data table notebook</a>'\n",
              "            + ' to learn more about interactive tables.';\n",
              "          element.innerHTML = '';\n",
              "          dataTable['output_type'] = 'display_data';\n",
              "          await google.colab.output.renderOutput(dataTable, element);\n",
              "          const docLink = document.createElement('div');\n",
              "          docLink.innerHTML = docLinkHtml;\n",
              "          element.appendChild(docLink);\n",
              "        }\n",
              "      </script>\n",
              "    </div>\n",
              "  </div>\n",
              "  "
            ]
          },
          "metadata": {},
          "execution_count": 144
        }
      ]
    },
    {
      "cell_type": "markdown",
      "metadata": {
        "id": "WKcc11w1klld"
      },
      "source": [
        "**Data cleaning**"
      ]
    },
    {
      "cell_type": "code",
      "execution_count": 15,
      "metadata": {
        "id": "xHaM-QZTklld",
        "colab": {
          "base_uri": "https://localhost:8080/"
        },
        "outputId": "5912c1c5-f00c-4e7d-9a79-ed1e502f7271"
      },
      "outputs": [
        {
          "output_type": "execute_result",
          "data": {
            "text/plain": [
              "ID               0\n",
              "Date             0\n",
              "Time             0\n",
              "Wind_Energy_1    0\n",
              "Wind_Energy_2    0\n",
              "Wind_Energy_3    0\n",
              "dtype: int64"
            ]
          },
          "metadata": {},
          "execution_count": 15
        }
      ],
      "source": [
        "dataset.isna().sum()"
      ]
    },
    {
      "cell_type": "code",
      "execution_count": 16,
      "metadata": {
        "id": "VsIlwyJuklle"
      },
      "outputs": [],
      "source": [
        "dataset=dataset.dropna()"
      ]
    },
    {
      "cell_type": "markdown",
      "source": [
        "**preprocess** **data**\n",
        "\n"
      ],
      "metadata": {
        "id": "ppES1UGHYkLX"
      }
    },
    {
      "cell_type": "code",
      "source": [
        "dataset['Month'] = dataset.Date.str.split('/').str[0].astype(float)\n",
        "dataset['Days'] = dataset.Date.str.split('/').str[1].astype(float)\n",
        "dataset['Hour'] = dataset.Time.str.split(':').str[0].astype(float)"
      ],
      "metadata": {
        "id": "4-40fAOwYtnW"
      },
      "execution_count": 22,
      "outputs": []
    },
    {
      "cell_type": "code",
      "source": [
        "dataset.drop(columns=['Date', 'Time', 'ID'], inplace=True )\n",
        "dataset.tail()"
      ],
      "metadata": {
        "colab": {
          "base_uri": "https://localhost:8080/",
          "height": 206
        },
        "id": "JnFGG8AjYt_9",
        "outputId": "e4e703d5-ec81-47f7-88d8-70344e9d08ed"
      },
      "execution_count": 23,
      "outputs": [
        {
          "output_type": "execute_result",
          "data": {
            "text/plain": [
              "       Wind_Energy_1  Wind_Energy_2  Wind_Energy_3  Month  Days  Hour\n",
              "25148            0.0            0.3            1.6   12.0  31.0  20.0\n",
              "25149            0.0            0.0            1.2   12.0  31.0  21.0\n",
              "25150            0.0            0.4            2.1   12.0  31.0  22.0\n",
              "25151            0.0            0.0            2.2   12.0  31.0  23.0\n",
              "25152            0.0            0.0            2.6   12.0  31.0  24.0"
            ],
            "text/html": [
              "\n",
              "  <div id=\"df-b842583c-e114-4d8a-aff2-bdfd6d7a178d\">\n",
              "    <div class=\"colab-df-container\">\n",
              "      <div>\n",
              "<style scoped>\n",
              "    .dataframe tbody tr th:only-of-type {\n",
              "        vertical-align: middle;\n",
              "    }\n",
              "\n",
              "    .dataframe tbody tr th {\n",
              "        vertical-align: top;\n",
              "    }\n",
              "\n",
              "    .dataframe thead th {\n",
              "        text-align: right;\n",
              "    }\n",
              "</style>\n",
              "<table border=\"1\" class=\"dataframe\">\n",
              "  <thead>\n",
              "    <tr style=\"text-align: right;\">\n",
              "      <th></th>\n",
              "      <th>Wind_Energy_1</th>\n",
              "      <th>Wind_Energy_2</th>\n",
              "      <th>Wind_Energy_3</th>\n",
              "      <th>Month</th>\n",
              "      <th>Days</th>\n",
              "      <th>Hour</th>\n",
              "    </tr>\n",
              "  </thead>\n",
              "  <tbody>\n",
              "    <tr>\n",
              "      <th>25148</th>\n",
              "      <td>0.0</td>\n",
              "      <td>0.3</td>\n",
              "      <td>1.6</td>\n",
              "      <td>12.0</td>\n",
              "      <td>31.0</td>\n",
              "      <td>20.0</td>\n",
              "    </tr>\n",
              "    <tr>\n",
              "      <th>25149</th>\n",
              "      <td>0.0</td>\n",
              "      <td>0.0</td>\n",
              "      <td>1.2</td>\n",
              "      <td>12.0</td>\n",
              "      <td>31.0</td>\n",
              "      <td>21.0</td>\n",
              "    </tr>\n",
              "    <tr>\n",
              "      <th>25150</th>\n",
              "      <td>0.0</td>\n",
              "      <td>0.4</td>\n",
              "      <td>2.1</td>\n",
              "      <td>12.0</td>\n",
              "      <td>31.0</td>\n",
              "      <td>22.0</td>\n",
              "    </tr>\n",
              "    <tr>\n",
              "      <th>25151</th>\n",
              "      <td>0.0</td>\n",
              "      <td>0.0</td>\n",
              "      <td>2.2</td>\n",
              "      <td>12.0</td>\n",
              "      <td>31.0</td>\n",
              "      <td>23.0</td>\n",
              "    </tr>\n",
              "    <tr>\n",
              "      <th>25152</th>\n",
              "      <td>0.0</td>\n",
              "      <td>0.0</td>\n",
              "      <td>2.6</td>\n",
              "      <td>12.0</td>\n",
              "      <td>31.0</td>\n",
              "      <td>24.0</td>\n",
              "    </tr>\n",
              "  </tbody>\n",
              "</table>\n",
              "</div>\n",
              "      <button class=\"colab-df-convert\" onclick=\"convertToInteractive('df-b842583c-e114-4d8a-aff2-bdfd6d7a178d')\"\n",
              "              title=\"Convert this dataframe to an interactive table.\"\n",
              "              style=\"display:none;\">\n",
              "        \n",
              "  <svg xmlns=\"http://www.w3.org/2000/svg\" height=\"24px\"viewBox=\"0 0 24 24\"\n",
              "       width=\"24px\">\n",
              "    <path d=\"M0 0h24v24H0V0z\" fill=\"none\"/>\n",
              "    <path d=\"M18.56 5.44l.94 2.06.94-2.06 2.06-.94-2.06-.94-.94-2.06-.94 2.06-2.06.94zm-11 1L8.5 8.5l.94-2.06 2.06-.94-2.06-.94L8.5 2.5l-.94 2.06-2.06.94zm10 10l.94 2.06.94-2.06 2.06-.94-2.06-.94-.94-2.06-.94 2.06-2.06.94z\"/><path d=\"M17.41 7.96l-1.37-1.37c-.4-.4-.92-.59-1.43-.59-.52 0-1.04.2-1.43.59L10.3 9.45l-7.72 7.72c-.78.78-.78 2.05 0 2.83L4 21.41c.39.39.9.59 1.41.59.51 0 1.02-.2 1.41-.59l7.78-7.78 2.81-2.81c.8-.78.8-2.07 0-2.86zM5.41 20L4 18.59l7.72-7.72 1.47 1.35L5.41 20z\"/>\n",
              "  </svg>\n",
              "      </button>\n",
              "      \n",
              "  <style>\n",
              "    .colab-df-container {\n",
              "      display:flex;\n",
              "      flex-wrap:wrap;\n",
              "      gap: 12px;\n",
              "    }\n",
              "\n",
              "    .colab-df-convert {\n",
              "      background-color: #E8F0FE;\n",
              "      border: none;\n",
              "      border-radius: 50%;\n",
              "      cursor: pointer;\n",
              "      display: none;\n",
              "      fill: #1967D2;\n",
              "      height: 32px;\n",
              "      padding: 0 0 0 0;\n",
              "      width: 32px;\n",
              "    }\n",
              "\n",
              "    .colab-df-convert:hover {\n",
              "      background-color: #E2EBFA;\n",
              "      box-shadow: 0px 1px 2px rgba(60, 64, 67, 0.3), 0px 1px 3px 1px rgba(60, 64, 67, 0.15);\n",
              "      fill: #174EA6;\n",
              "    }\n",
              "\n",
              "    [theme=dark] .colab-df-convert {\n",
              "      background-color: #3B4455;\n",
              "      fill: #D2E3FC;\n",
              "    }\n",
              "\n",
              "    [theme=dark] .colab-df-convert:hover {\n",
              "      background-color: #434B5C;\n",
              "      box-shadow: 0px 1px 3px 1px rgba(0, 0, 0, 0.15);\n",
              "      filter: drop-shadow(0px 1px 2px rgba(0, 0, 0, 0.3));\n",
              "      fill: #FFFFFF;\n",
              "    }\n",
              "  </style>\n",
              "\n",
              "      <script>\n",
              "        const buttonEl =\n",
              "          document.querySelector('#df-b842583c-e114-4d8a-aff2-bdfd6d7a178d button.colab-df-convert');\n",
              "        buttonEl.style.display =\n",
              "          google.colab.kernel.accessAllowed ? 'block' : 'none';\n",
              "\n",
              "        async function convertToInteractive(key) {\n",
              "          const element = document.querySelector('#df-b842583c-e114-4d8a-aff2-bdfd6d7a178d');\n",
              "          const dataTable =\n",
              "            await google.colab.kernel.invokeFunction('convertToInteractive',\n",
              "                                                     [key], {});\n",
              "          if (!dataTable) return;\n",
              "\n",
              "          const docLinkHtml = 'Like what you see? Visit the ' +\n",
              "            '<a target=\"_blank\" href=https://colab.research.google.com/notebooks/data_table.ipynb>data table notebook</a>'\n",
              "            + ' to learn more about interactive tables.';\n",
              "          element.innerHTML = '';\n",
              "          dataTable['output_type'] = 'display_data';\n",
              "          await google.colab.output.renderOutput(dataTable, element);\n",
              "          const docLink = document.createElement('div');\n",
              "          docLink.innerHTML = docLinkHtml;\n",
              "          element.appendChild(docLink);\n",
              "        }\n",
              "      </script>\n",
              "    </div>\n",
              "  </div>\n",
              "  "
            ]
          },
          "metadata": {},
          "execution_count": 23
        }
      ]
    },
    {
      "cell_type": "code",
      "source": [
        "## Split features\n",
        "train_features = dataset.copy()\n",
        "\n",
        "train_labels = train_features[['Wind_Energy_1','Wind_Energy_2','Wind_Energy_3']].copy()\n",
        "train_features = train_features.drop(['Wind_Energy_1','Wind_Energy_2','Wind_Energy_3'],\n",
        "                                     axis = 1)\n",
        "\n"
      ],
      "metadata": {
        "id": "g5BcOPCVYuP1"
      },
      "execution_count": 79,
      "outputs": []
    },
    {
      "cell_type": "markdown",
      "source": [
        "**Normalization**"
      ],
      "metadata": {
        "id": "TBLIdQRVa3Xl"
      }
    },
    {
      "cell_type": "code",
      "source": [
        "dataset.describe().transpose()[['mean','std']]\n"
      ],
      "metadata": {
        "colab": {
          "base_uri": "https://localhost:8080/",
          "height": 238
        },
        "id": "dfWgg6c9a5oM",
        "outputId": "439eefe8-5fe9-4c67-cbed-ac3e2e7f5a18"
      },
      "execution_count": 80,
      "outputs": [
        {
          "output_type": "execute_result",
          "data": {
            "text/plain": [
              "                    mean        std\n",
              "Wind_Energy_1  15.398925  18.931922\n",
              "Wind_Energy_2   8.536261   9.958963\n",
              "Wind_Energy_3  12.075927  11.549401\n",
              "Month           6.758399   3.339400\n",
              "Days           15.834016   8.803905\n",
              "Hour           12.500457   6.922566"
            ],
            "text/html": [
              "\n",
              "  <div id=\"df-c3d7bd26-f12e-462a-8d30-8e6ed9e3e4aa\">\n",
              "    <div class=\"colab-df-container\">\n",
              "      <div>\n",
              "<style scoped>\n",
              "    .dataframe tbody tr th:only-of-type {\n",
              "        vertical-align: middle;\n",
              "    }\n",
              "\n",
              "    .dataframe tbody tr th {\n",
              "        vertical-align: top;\n",
              "    }\n",
              "\n",
              "    .dataframe thead th {\n",
              "        text-align: right;\n",
              "    }\n",
              "</style>\n",
              "<table border=\"1\" class=\"dataframe\">\n",
              "  <thead>\n",
              "    <tr style=\"text-align: right;\">\n",
              "      <th></th>\n",
              "      <th>mean</th>\n",
              "      <th>std</th>\n",
              "    </tr>\n",
              "  </thead>\n",
              "  <tbody>\n",
              "    <tr>\n",
              "      <th>Wind_Energy_1</th>\n",
              "      <td>15.398925</td>\n",
              "      <td>18.931922</td>\n",
              "    </tr>\n",
              "    <tr>\n",
              "      <th>Wind_Energy_2</th>\n",
              "      <td>8.536261</td>\n",
              "      <td>9.958963</td>\n",
              "    </tr>\n",
              "    <tr>\n",
              "      <th>Wind_Energy_3</th>\n",
              "      <td>12.075927</td>\n",
              "      <td>11.549401</td>\n",
              "    </tr>\n",
              "    <tr>\n",
              "      <th>Month</th>\n",
              "      <td>6.758399</td>\n",
              "      <td>3.339400</td>\n",
              "    </tr>\n",
              "    <tr>\n",
              "      <th>Days</th>\n",
              "      <td>15.834016</td>\n",
              "      <td>8.803905</td>\n",
              "    </tr>\n",
              "    <tr>\n",
              "      <th>Hour</th>\n",
              "      <td>12.500457</td>\n",
              "      <td>6.922566</td>\n",
              "    </tr>\n",
              "  </tbody>\n",
              "</table>\n",
              "</div>\n",
              "      <button class=\"colab-df-convert\" onclick=\"convertToInteractive('df-c3d7bd26-f12e-462a-8d30-8e6ed9e3e4aa')\"\n",
              "              title=\"Convert this dataframe to an interactive table.\"\n",
              "              style=\"display:none;\">\n",
              "        \n",
              "  <svg xmlns=\"http://www.w3.org/2000/svg\" height=\"24px\"viewBox=\"0 0 24 24\"\n",
              "       width=\"24px\">\n",
              "    <path d=\"M0 0h24v24H0V0z\" fill=\"none\"/>\n",
              "    <path d=\"M18.56 5.44l.94 2.06.94-2.06 2.06-.94-2.06-.94-.94-2.06-.94 2.06-2.06.94zm-11 1L8.5 8.5l.94-2.06 2.06-.94-2.06-.94L8.5 2.5l-.94 2.06-2.06.94zm10 10l.94 2.06.94-2.06 2.06-.94-2.06-.94-.94-2.06-.94 2.06-2.06.94z\"/><path d=\"M17.41 7.96l-1.37-1.37c-.4-.4-.92-.59-1.43-.59-.52 0-1.04.2-1.43.59L10.3 9.45l-7.72 7.72c-.78.78-.78 2.05 0 2.83L4 21.41c.39.39.9.59 1.41.59.51 0 1.02-.2 1.41-.59l7.78-7.78 2.81-2.81c.8-.78.8-2.07 0-2.86zM5.41 20L4 18.59l7.72-7.72 1.47 1.35L5.41 20z\"/>\n",
              "  </svg>\n",
              "      </button>\n",
              "      \n",
              "  <style>\n",
              "    .colab-df-container {\n",
              "      display:flex;\n",
              "      flex-wrap:wrap;\n",
              "      gap: 12px;\n",
              "    }\n",
              "\n",
              "    .colab-df-convert {\n",
              "      background-color: #E8F0FE;\n",
              "      border: none;\n",
              "      border-radius: 50%;\n",
              "      cursor: pointer;\n",
              "      display: none;\n",
              "      fill: #1967D2;\n",
              "      height: 32px;\n",
              "      padding: 0 0 0 0;\n",
              "      width: 32px;\n",
              "    }\n",
              "\n",
              "    .colab-df-convert:hover {\n",
              "      background-color: #E2EBFA;\n",
              "      box-shadow: 0px 1px 2px rgba(60, 64, 67, 0.3), 0px 1px 3px 1px rgba(60, 64, 67, 0.15);\n",
              "      fill: #174EA6;\n",
              "    }\n",
              "\n",
              "    [theme=dark] .colab-df-convert {\n",
              "      background-color: #3B4455;\n",
              "      fill: #D2E3FC;\n",
              "    }\n",
              "\n",
              "    [theme=dark] .colab-df-convert:hover {\n",
              "      background-color: #434B5C;\n",
              "      box-shadow: 0px 1px 3px 1px rgba(0, 0, 0, 0.15);\n",
              "      filter: drop-shadow(0px 1px 2px rgba(0, 0, 0, 0.3));\n",
              "      fill: #FFFFFF;\n",
              "    }\n",
              "  </style>\n",
              "\n",
              "      <script>\n",
              "        const buttonEl =\n",
              "          document.querySelector('#df-c3d7bd26-f12e-462a-8d30-8e6ed9e3e4aa button.colab-df-convert');\n",
              "        buttonEl.style.display =\n",
              "          google.colab.kernel.accessAllowed ? 'block' : 'none';\n",
              "\n",
              "        async function convertToInteractive(key) {\n",
              "          const element = document.querySelector('#df-c3d7bd26-f12e-462a-8d30-8e6ed9e3e4aa');\n",
              "          const dataTable =\n",
              "            await google.colab.kernel.invokeFunction('convertToInteractive',\n",
              "                                                     [key], {});\n",
              "          if (!dataTable) return;\n",
              "\n",
              "          const docLinkHtml = 'Like what you see? Visit the ' +\n",
              "            '<a target=\"_blank\" href=https://colab.research.google.com/notebooks/data_table.ipynb>data table notebook</a>'\n",
              "            + ' to learn more about interactive tables.';\n",
              "          element.innerHTML = '';\n",
              "          dataTable['output_type'] = 'display_data';\n",
              "          await google.colab.output.renderOutput(dataTable, element);\n",
              "          const docLink = document.createElement('div');\n",
              "          docLink.innerHTML = docLinkHtml;\n",
              "          element.appendChild(docLink);\n",
              "        }\n",
              "      </script>\n",
              "    </div>\n",
              "  </div>\n",
              "  "
            ]
          },
          "metadata": {},
          "execution_count": 80
        }
      ]
    },
    {
      "cell_type": "code",
      "source": [
        "#The first step is to create the norm layer\n",
        "normalizer = tf.keras.layers.Normalization(axis=-1)"
      ],
      "metadata": {
        "id": "CZtTsjgIa5qc"
      },
      "execution_count": 81,
      "outputs": []
    },
    {
      "cell_type": "code",
      "source": [
        "#fit the preprocessing layer\n",
        "normalizer.adapt(np.array(train_features))\n"
      ],
      "metadata": {
        "id": "uo90m2GMa6As"
      },
      "execution_count": 82,
      "outputs": []
    },
    {
      "cell_type": "code",
      "source": [
        "print(normalizer.mean.numpy())"
      ],
      "metadata": {
        "colab": {
          "base_uri": "https://localhost:8080/"
        },
        "id": "bJNWracka6C3",
        "outputId": "2f15661c-38fa-47c6-dd1e-f0842e9f8c64"
      },
      "execution_count": 83,
      "outputs": [
        {
          "output_type": "stream",
          "name": "stdout",
          "text": [
            "[[ 6.758 15.834 12.5  ]]\n"
          ]
        }
      ]
    },
    {
      "cell_type": "code",
      "source": [
        "first = np.array(train_features[:1])\n",
        "\n",
        "with np.printoptions(precision =2, suppress = True):\n",
        "  print('First example: ',first)\n",
        "  print()\n",
        "  print('Normalized: ', normalizer(first).numpy())"
      ],
      "metadata": {
        "colab": {
          "base_uri": "https://localhost:8080/"
        },
        "id": "4js_WmiObUxf",
        "outputId": "fb900d81-8ac5-42e4-fce2-a94915c83a72"
      },
      "execution_count": 145,
      "outputs": [
        {
          "output_type": "stream",
          "name": "stdout",
          "text": [
            "First example:  [[ 2. 17. 24.]]\n",
            "\n",
            "Normalized:  [[-1.42  0.13  1.66]]\n"
          ]
        }
      ]
    },
    {
      "cell_type": "markdown",
      "metadata": {
        "id": "a9qRJ5xVklle"
      },
      "source": [
        "**Descriptive statistics**"
      ]
    },
    {
      "cell_type": "code",
      "execution_count": null,
      "metadata": {
        "id": "ZKfeIvcGklle"
      },
      "outputs": [],
      "source": [
        ""
      ]
    },
    {
      "cell_type": "code",
      "execution_count": null,
      "metadata": {
        "id": "cgum_ScBkllf"
      },
      "outputs": [],
      "source": [
        ""
      ]
    },
    {
      "cell_type": "code",
      "execution_count": null,
      "metadata": {
        "id": "3fK_0sOYkllf"
      },
      "outputs": [],
      "source": [
        ""
      ]
    },
    {
      "cell_type": "markdown",
      "metadata": {
        "id": "l8Ly2YFlkllf"
      },
      "source": [
        "**Data visualizations**"
      ]
    },
    {
      "cell_type": "code",
      "execution_count": null,
      "metadata": {
        "id": "sbv9Qkhekllf"
      },
      "outputs": [],
      "source": [
        ""
      ]
    },
    {
      "cell_type": "code",
      "execution_count": null,
      "metadata": {
        "id": "FOa2rF54kllg"
      },
      "outputs": [],
      "source": [
        ""
      ]
    },
    {
      "cell_type": "code",
      "execution_count": null,
      "metadata": {
        "id": "sFh2K0bWkllg"
      },
      "outputs": [],
      "source": [
        ""
      ]
    },
    {
      "cell_type": "markdown",
      "metadata": {
        "id": "pJQj6V0_kllg"
      },
      "source": [
        "**Split-out validation dataset**"
      ]
    },
    {
      "cell_type": "code",
      "execution_count": null,
      "metadata": {
        "id": "Qb4yBkZzkllg"
      },
      "outputs": [],
      "source": [
        ""
      ]
    },
    {
      "cell_type": "code",
      "execution_count": null,
      "metadata": {
        "id": "mvmzGj_tkllg"
      },
      "outputs": [],
      "source": [
        ""
      ]
    },
    {
      "cell_type": "code",
      "execution_count": null,
      "metadata": {
        "id": "3Y4BqhSXkllh"
      },
      "outputs": [],
      "source": [
        ""
      ]
    },
    {
      "cell_type": "markdown",
      "metadata": {
        "id": "QHZrPYCXkllh"
      },
      "source": [
        "**Deep Learning** \n",
        "**+ Graph results**"
      ]
    },
    {
      "cell_type": "markdown",
      "source": [
        "**Linear regression with one variable**"
      ],
      "metadata": {
        "id": "eJpVuTMNbuaV"
      }
    },
    {
      "cell_type": "code",
      "execution_count": 91,
      "metadata": {
        "id": "SZQQq5aNkllh"
      },
      "outputs": [],
      "source": [
        "hour = np.array(train_features['Hour'])\n",
        "hour_normalizer = layers.Normalization(input_shape=[1,], axis = None)\n",
        "hour_normalizer. adapt(hour)\n"
      ]
    },
    {
      "cell_type": "code",
      "source": [
        "hour_model = tf.keras.Sequential([\n",
        "hour_normalizer,\n",
        "layers.Dense(units=3)\n",
        "])\n",
        "hour_model.summary()"
      ],
      "metadata": {
        "colab": {
          "base_uri": "https://localhost:8080/"
        },
        "id": "js6Islx7bxAF",
        "outputId": "63455815-81d1-4067-dd91-940479fcc036"
      },
      "execution_count": 92,
      "outputs": [
        {
          "output_type": "stream",
          "name": "stdout",
          "text": [
            "Model: \"sequential\"\n",
            "_________________________________________________________________\n",
            " Layer (type)                Output Shape              Param #   \n",
            "=================================================================\n",
            " normalization_2 (Normalizat  (None, 1)                3         \n",
            " ion)                                                            \n",
            "                                                                 \n",
            " dense (Dense)               (None, 3)                 6         \n",
            "                                                                 \n",
            "=================================================================\n",
            "Total params: 9\n",
            "Trainable params: 6\n",
            "Non-trainable params: 3\n",
            "_________________________________________________________________\n"
          ]
        }
      ]
    },
    {
      "cell_type": "code",
      "execution_count": 93,
      "metadata": {
        "id": "Q1zvZEVdkllh",
        "colab": {
          "base_uri": "https://localhost:8080/"
        },
        "outputId": "7b5984be-3653-49bb-c212-f326fb11c56b"
      },
      "outputs": [
        {
          "output_type": "execute_result",
          "data": {
            "text/plain": [
              "array([[-1.738,  1.673,  1.928],\n",
              "       [ 1.738, -1.674, -1.928],\n",
              "       [ 1.587, -1.528, -1.761],\n",
              "       [ 1.436, -1.383, -1.593],\n",
              "       [ 1.285, -1.237, -1.425],\n",
              "       [ 1.134, -1.091, -1.258],\n",
              "       [ 0.983, -0.946, -1.09 ],\n",
              "       [ 0.831, -0.8  , -0.922],\n",
              "       [ 0.68 , -0.655, -0.755],\n",
              "       [ 0.529, -0.509, -0.587]], dtype=float32)"
            ]
          },
          "metadata": {},
          "execution_count": 93
        }
      ],
      "source": [
        " hour_model.predict(hour[:10])\n"
      ]
    },
    {
      "cell_type": "code",
      "execution_count": 95,
      "metadata": {
        "id": "ZLJ9GUMlkllh"
      },
      "outputs": [],
      "source": [
        "hour_model.compile(\n",
        "optimizer = tf.optimizers.Adam(learning_rate=0.1),\n",
        "loss = 'mean_absolute_error')\n"
      ]
    },
    {
      "cell_type": "code",
      "source": [
        " log_dir = \"logs/fit/LR_one_\" + datetime.datetime.now().strftime(\"%Y%m%d-%H%M%S\")\n",
        "tensorboard_callback = tf.keras.callbacks.TensorBoard(\n",
        "log_dir=log_dir, histogram_freq = 1\n",
        ")\n",
        "hparams_callback = hp.KerasCallback(log_dir, {\n",
        "'num_linear_units': 3,\n",
        "})"
      ],
      "metadata": {
        "id": "dhOCf8I1eYHE"
      },
      "execution_count": 96,
      "outputs": []
    },
    {
      "cell_type": "code",
      "source": [
        "%%time\n",
        "history = hour_model.fit(\n",
        "train_features['Hour'],#X\n",
        "train_labels, #Y\n",
        "epochs = 100,\n",
        "#logging\n",
        "verbose = 1,\n",
        "# Calculate validation set based on training data\n",
        "validation_split = 0.2,\n",
        "callbacks=[tensorboard_callback,hparams_callback]\n",
        ")"
      ],
      "metadata": {
        "colab": {
          "base_uri": "https://localhost:8080/"
        },
        "id": "ug8fcYhLeacL",
        "outputId": "0c7255af-c07b-4804-e3c9-736df3d279fc"
      },
      "execution_count": 97,
      "outputs": [
        {
          "output_type": "stream",
          "name": "stdout",
          "text": [
            "Epoch 1/100\n",
            "629/629 [==============================] - 3s 3ms/step - loss: 10.9723 - val_loss: 10.4269\n",
            "Epoch 2/100\n",
            "629/629 [==============================] - 1s 2ms/step - loss: 10.9054 - val_loss: 10.4405\n",
            "Epoch 3/100\n",
            "629/629 [==============================] - 1s 2ms/step - loss: 10.9065 - val_loss: 10.4708\n",
            "Epoch 4/100\n",
            "629/629 [==============================] - 1s 2ms/step - loss: 10.9059 - val_loss: 10.4296\n",
            "Epoch 5/100\n",
            "629/629 [==============================] - 1s 2ms/step - loss: 10.9025 - val_loss: 10.4131\n",
            "Epoch 6/100\n",
            "629/629 [==============================] - 1s 2ms/step - loss: 10.9058 - val_loss: 10.4629\n",
            "Epoch 7/100\n",
            "629/629 [==============================] - 1s 2ms/step - loss: 10.9066 - val_loss: 10.4558\n",
            "Epoch 8/100\n",
            "629/629 [==============================] - 1s 2ms/step - loss: 10.9034 - val_loss: 10.4081\n",
            "Epoch 9/100\n",
            "629/629 [==============================] - 1s 2ms/step - loss: 10.9030 - val_loss: 10.4458\n",
            "Epoch 10/100\n",
            "629/629 [==============================] - 1s 2ms/step - loss: 10.9006 - val_loss: 10.4353\n",
            "Epoch 11/100\n",
            "629/629 [==============================] - 1s 2ms/step - loss: 10.9048 - val_loss: 10.4332\n",
            "Epoch 12/100\n",
            "629/629 [==============================] - 1s 2ms/step - loss: 10.9051 - val_loss: 10.4317\n",
            "Epoch 13/100\n",
            "629/629 [==============================] - 1s 2ms/step - loss: 10.9061 - val_loss: 10.4440\n",
            "Epoch 14/100\n",
            "629/629 [==============================] - 1s 2ms/step - loss: 10.9051 - val_loss: 10.4413\n",
            "Epoch 15/100\n",
            "629/629 [==============================] - 1s 2ms/step - loss: 10.9051 - val_loss: 10.4501\n",
            "Epoch 16/100\n",
            "629/629 [==============================] - 1s 2ms/step - loss: 10.9039 - val_loss: 10.4353\n",
            "Epoch 17/100\n",
            "629/629 [==============================] - 1s 2ms/step - loss: 10.9053 - val_loss: 10.4448\n",
            "Epoch 18/100\n",
            "629/629 [==============================] - 1s 2ms/step - loss: 10.9050 - val_loss: 10.4711\n",
            "Epoch 19/100\n",
            "629/629 [==============================] - 1s 2ms/step - loss: 10.9088 - val_loss: 10.4319\n",
            "Epoch 20/100\n",
            "629/629 [==============================] - 1s 2ms/step - loss: 10.9080 - val_loss: 10.4408\n",
            "Epoch 21/100\n",
            "629/629 [==============================] - 1s 2ms/step - loss: 10.9010 - val_loss: 10.5058\n",
            "Epoch 22/100\n",
            "629/629 [==============================] - 1s 2ms/step - loss: 10.9030 - val_loss: 10.4244\n",
            "Epoch 23/100\n",
            "629/629 [==============================] - 1s 2ms/step - loss: 10.9084 - val_loss: 10.4426\n",
            "Epoch 24/100\n",
            "629/629 [==============================] - 1s 2ms/step - loss: 10.9050 - val_loss: 10.4404\n",
            "Epoch 25/100\n",
            "629/629 [==============================] - 1s 2ms/step - loss: 10.9068 - val_loss: 10.4353\n",
            "Epoch 26/100\n",
            "629/629 [==============================] - 1s 2ms/step - loss: 10.9063 - val_loss: 10.4321\n",
            "Epoch 27/100\n",
            "629/629 [==============================] - 1s 2ms/step - loss: 10.9012 - val_loss: 10.4610\n",
            "Epoch 28/100\n",
            "629/629 [==============================] - 1s 2ms/step - loss: 10.9072 - val_loss: 10.4416\n",
            "Epoch 29/100\n",
            "629/629 [==============================] - 1s 2ms/step - loss: 10.9046 - val_loss: 10.4302\n",
            "Epoch 30/100\n",
            "629/629 [==============================] - 1s 2ms/step - loss: 10.9067 - val_loss: 10.4326\n",
            "Epoch 31/100\n",
            "629/629 [==============================] - 1s 2ms/step - loss: 10.9063 - val_loss: 10.4622\n",
            "Epoch 32/100\n",
            "629/629 [==============================] - 1s 2ms/step - loss: 10.9050 - val_loss: 10.4683\n",
            "Epoch 33/100\n",
            "629/629 [==============================] - 1s 2ms/step - loss: 10.9059 - val_loss: 10.4602\n",
            "Epoch 34/100\n",
            "629/629 [==============================] - 1s 2ms/step - loss: 10.9041 - val_loss: 10.4202\n",
            "Epoch 35/100\n",
            "629/629 [==============================] - 1s 2ms/step - loss: 10.9043 - val_loss: 10.4234\n",
            "Epoch 36/100\n",
            "629/629 [==============================] - 1s 2ms/step - loss: 10.9052 - val_loss: 10.4531\n",
            "Epoch 37/100\n",
            "629/629 [==============================] - 1s 2ms/step - loss: 10.9023 - val_loss: 10.5178\n",
            "Epoch 38/100\n",
            "629/629 [==============================] - 1s 2ms/step - loss: 10.9062 - val_loss: 10.4485\n",
            "Epoch 39/100\n",
            "629/629 [==============================] - 1s 2ms/step - loss: 10.9061 - val_loss: 10.4503\n",
            "Epoch 40/100\n",
            "629/629 [==============================] - 1s 2ms/step - loss: 10.9076 - val_loss: 10.4607\n",
            "Epoch 41/100\n",
            "629/629 [==============================] - 1s 2ms/step - loss: 10.9038 - val_loss: 10.4577\n",
            "Epoch 42/100\n",
            "629/629 [==============================] - 1s 2ms/step - loss: 10.9035 - val_loss: 10.4233\n",
            "Epoch 43/100\n",
            "629/629 [==============================] - 1s 2ms/step - loss: 10.9024 - val_loss: 10.4573\n",
            "Epoch 44/100\n",
            "629/629 [==============================] - 1s 2ms/step - loss: 10.9066 - val_loss: 10.4365\n",
            "Epoch 45/100\n",
            "629/629 [==============================] - 1s 2ms/step - loss: 10.9077 - val_loss: 10.4277\n",
            "Epoch 46/100\n",
            "629/629 [==============================] - 1s 2ms/step - loss: 10.9061 - val_loss: 10.4252\n",
            "Epoch 47/100\n",
            "629/629 [==============================] - 1s 2ms/step - loss: 10.9055 - val_loss: 10.4246\n",
            "Epoch 48/100\n",
            "629/629 [==============================] - 1s 2ms/step - loss: 10.9057 - val_loss: 10.4466\n",
            "Epoch 49/100\n",
            "629/629 [==============================] - 1s 2ms/step - loss: 10.9060 - val_loss: 10.4412\n",
            "Epoch 50/100\n",
            "629/629 [==============================] - 1s 2ms/step - loss: 10.9011 - val_loss: 10.4662\n",
            "Epoch 51/100\n",
            "629/629 [==============================] - 1s 2ms/step - loss: 10.9048 - val_loss: 10.4274\n",
            "Epoch 52/100\n",
            "629/629 [==============================] - 1s 2ms/step - loss: 10.9061 - val_loss: 10.4682\n",
            "Epoch 53/100\n",
            "629/629 [==============================] - 1s 2ms/step - loss: 10.9055 - val_loss: 10.4542\n",
            "Epoch 54/100\n",
            "629/629 [==============================] - 1s 2ms/step - loss: 10.9070 - val_loss: 10.4472\n",
            "Epoch 55/100\n",
            "629/629 [==============================] - 1s 2ms/step - loss: 10.9061 - val_loss: 10.4600\n",
            "Epoch 56/100\n",
            "629/629 [==============================] - 1s 2ms/step - loss: 10.9061 - val_loss: 10.4641\n",
            "Epoch 57/100\n",
            "629/629 [==============================] - 1s 2ms/step - loss: 10.9065 - val_loss: 10.4334\n",
            "Epoch 58/100\n",
            "629/629 [==============================] - 1s 2ms/step - loss: 10.9086 - val_loss: 10.4406\n",
            "Epoch 59/100\n",
            "629/629 [==============================] - 1s 2ms/step - loss: 10.9064 - val_loss: 10.4595\n",
            "Epoch 60/100\n",
            "629/629 [==============================] - 1s 2ms/step - loss: 10.9066 - val_loss: 10.4525\n",
            "Epoch 61/100\n",
            "629/629 [==============================] - 1s 2ms/step - loss: 10.9063 - val_loss: 10.4580\n",
            "Epoch 62/100\n",
            "629/629 [==============================] - 1s 2ms/step - loss: 10.9055 - val_loss: 10.4230\n",
            "Epoch 63/100\n",
            "629/629 [==============================] - 1s 2ms/step - loss: 10.9053 - val_loss: 10.4397\n",
            "Epoch 64/100\n",
            "629/629 [==============================] - 1s 2ms/step - loss: 10.9088 - val_loss: 10.4404\n",
            "Epoch 65/100\n",
            "629/629 [==============================] - 1s 2ms/step - loss: 10.9065 - val_loss: 10.4541\n",
            "Epoch 66/100\n",
            "629/629 [==============================] - 1s 2ms/step - loss: 10.9071 - val_loss: 10.4237\n",
            "Epoch 67/100\n",
            "629/629 [==============================] - 1s 2ms/step - loss: 10.9068 - val_loss: 10.4375\n",
            "Epoch 68/100\n",
            "629/629 [==============================] - 1s 2ms/step - loss: 10.9056 - val_loss: 10.4259\n",
            "Epoch 69/100\n",
            "629/629 [==============================] - 1s 2ms/step - loss: 10.9036 - val_loss: 10.4465\n",
            "Epoch 70/100\n",
            "629/629 [==============================] - 1s 2ms/step - loss: 10.9044 - val_loss: 10.4453\n",
            "Epoch 71/100\n",
            "629/629 [==============================] - 1s 2ms/step - loss: 10.9067 - val_loss: 10.4414\n",
            "Epoch 72/100\n",
            "629/629 [==============================] - 1s 2ms/step - loss: 10.9056 - val_loss: 10.4556\n",
            "Epoch 73/100\n",
            "629/629 [==============================] - 1s 2ms/step - loss: 10.9051 - val_loss: 10.4272\n",
            "Epoch 74/100\n",
            "629/629 [==============================] - 1s 2ms/step - loss: 10.9026 - val_loss: 10.4420\n",
            "Epoch 75/100\n",
            "629/629 [==============================] - 1s 2ms/step - loss: 10.9063 - val_loss: 10.4587\n",
            "Epoch 76/100\n",
            "629/629 [==============================] - 1s 2ms/step - loss: 10.9082 - val_loss: 10.4503\n",
            "Epoch 77/100\n",
            "629/629 [==============================] - 1s 2ms/step - loss: 10.9048 - val_loss: 10.4357\n",
            "Epoch 78/100\n",
            "629/629 [==============================] - 1s 2ms/step - loss: 10.8998 - val_loss: 10.4876\n",
            "Epoch 79/100\n",
            "629/629 [==============================] - 1s 2ms/step - loss: 10.9077 - val_loss: 10.4310\n",
            "Epoch 80/100\n",
            "629/629 [==============================] - 1s 2ms/step - loss: 10.9039 - val_loss: 10.4228\n",
            "Epoch 81/100\n",
            "629/629 [==============================] - 1s 2ms/step - loss: 10.9067 - val_loss: 10.4677\n",
            "Epoch 82/100\n",
            "629/629 [==============================] - 1s 2ms/step - loss: 10.9048 - val_loss: 10.4398\n",
            "Epoch 83/100\n",
            "629/629 [==============================] - 1s 2ms/step - loss: 10.9085 - val_loss: 10.4257\n",
            "Epoch 84/100\n",
            "629/629 [==============================] - 1s 2ms/step - loss: 10.9013 - val_loss: 10.4476\n",
            "Epoch 85/100\n",
            "629/629 [==============================] - 1s 2ms/step - loss: 10.9048 - val_loss: 10.4459\n",
            "Epoch 86/100\n",
            "629/629 [==============================] - 1s 2ms/step - loss: 10.9094 - val_loss: 10.4311\n",
            "Epoch 87/100\n",
            "629/629 [==============================] - 1s 2ms/step - loss: 10.9040 - val_loss: 10.4344\n",
            "Epoch 88/100\n",
            "629/629 [==============================] - 1s 2ms/step - loss: 10.9068 - val_loss: 10.4408\n",
            "Epoch 89/100\n",
            "629/629 [==============================] - 1s 2ms/step - loss: 10.9033 - val_loss: 10.4345\n",
            "Epoch 90/100\n",
            "629/629 [==============================] - 1s 2ms/step - loss: 10.9066 - val_loss: 10.4556\n",
            "Epoch 91/100\n",
            "629/629 [==============================] - 1s 2ms/step - loss: 10.9048 - val_loss: 10.4615\n",
            "Epoch 92/100\n",
            "629/629 [==============================] - 1s 2ms/step - loss: 10.9065 - val_loss: 10.4450\n",
            "Epoch 93/100\n",
            "629/629 [==============================] - 1s 2ms/step - loss: 10.9029 - val_loss: 10.4697\n",
            "Epoch 94/100\n",
            "629/629 [==============================] - 1s 2ms/step - loss: 10.9081 - val_loss: 10.4579\n",
            "Epoch 95/100\n",
            "629/629 [==============================] - 1s 2ms/step - loss: 10.9053 - val_loss: 10.4368\n",
            "Epoch 96/100\n",
            "629/629 [==============================] - 1s 2ms/step - loss: 10.9030 - val_loss: 10.4486\n",
            "Epoch 97/100\n",
            "629/629 [==============================] - 1s 2ms/step - loss: 10.9059 - val_loss: 10.4496\n",
            "Epoch 98/100\n",
            "629/629 [==============================] - 1s 2ms/step - loss: 10.9042 - val_loss: 10.4300\n",
            "Epoch 99/100\n",
            "629/629 [==============================] - 1s 2ms/step - loss: 10.9075 - val_loss: 10.4431\n",
            "Epoch 100/100\n",
            "629/629 [==============================] - 1s 2ms/step - loss: 10.9064 - val_loss: 10.4378\n",
            "CPU times: user 2min, sys: 8.17 s, total: 2min 9s\n",
            "Wall time: 1min 57s\n"
          ]
        }
      ]
    },
    {
      "cell_type": "code",
      "source": [
        "hist = pd.DataFrame(history.history)\n",
        "hist['epoch'] = history.epoch\n",
        "hist.tail()\n"
      ],
      "metadata": {
        "colab": {
          "base_uri": "https://localhost:8080/",
          "height": 206
        },
        "id": "pXuLpX_neaeL",
        "outputId": "72b18f71-45e0-4de0-868a-5b8f7201765a"
      },
      "execution_count": 98,
      "outputs": [
        {
          "output_type": "execute_result",
          "data": {
            "text/plain": [
              "         loss   val_loss  epoch\n",
              "95  10.902959  10.448644     95\n",
              "96  10.905918  10.449553     96\n",
              "97  10.904243  10.430017     97\n",
              "98  10.907520  10.443121     98\n",
              "99  10.906438  10.437822     99"
            ],
            "text/html": [
              "\n",
              "  <div id=\"df-9531ffa3-4fa8-4c56-b570-c2a38079e547\">\n",
              "    <div class=\"colab-df-container\">\n",
              "      <div>\n",
              "<style scoped>\n",
              "    .dataframe tbody tr th:only-of-type {\n",
              "        vertical-align: middle;\n",
              "    }\n",
              "\n",
              "    .dataframe tbody tr th {\n",
              "        vertical-align: top;\n",
              "    }\n",
              "\n",
              "    .dataframe thead th {\n",
              "        text-align: right;\n",
              "    }\n",
              "</style>\n",
              "<table border=\"1\" class=\"dataframe\">\n",
              "  <thead>\n",
              "    <tr style=\"text-align: right;\">\n",
              "      <th></th>\n",
              "      <th>loss</th>\n",
              "      <th>val_loss</th>\n",
              "      <th>epoch</th>\n",
              "    </tr>\n",
              "  </thead>\n",
              "  <tbody>\n",
              "    <tr>\n",
              "      <th>95</th>\n",
              "      <td>10.902959</td>\n",
              "      <td>10.448644</td>\n",
              "      <td>95</td>\n",
              "    </tr>\n",
              "    <tr>\n",
              "      <th>96</th>\n",
              "      <td>10.905918</td>\n",
              "      <td>10.449553</td>\n",
              "      <td>96</td>\n",
              "    </tr>\n",
              "    <tr>\n",
              "      <th>97</th>\n",
              "      <td>10.904243</td>\n",
              "      <td>10.430017</td>\n",
              "      <td>97</td>\n",
              "    </tr>\n",
              "    <tr>\n",
              "      <th>98</th>\n",
              "      <td>10.907520</td>\n",
              "      <td>10.443121</td>\n",
              "      <td>98</td>\n",
              "    </tr>\n",
              "    <tr>\n",
              "      <th>99</th>\n",
              "      <td>10.906438</td>\n",
              "      <td>10.437822</td>\n",
              "      <td>99</td>\n",
              "    </tr>\n",
              "  </tbody>\n",
              "</table>\n",
              "</div>\n",
              "      <button class=\"colab-df-convert\" onclick=\"convertToInteractive('df-9531ffa3-4fa8-4c56-b570-c2a38079e547')\"\n",
              "              title=\"Convert this dataframe to an interactive table.\"\n",
              "              style=\"display:none;\">\n",
              "        \n",
              "  <svg xmlns=\"http://www.w3.org/2000/svg\" height=\"24px\"viewBox=\"0 0 24 24\"\n",
              "       width=\"24px\">\n",
              "    <path d=\"M0 0h24v24H0V0z\" fill=\"none\"/>\n",
              "    <path d=\"M18.56 5.44l.94 2.06.94-2.06 2.06-.94-2.06-.94-.94-2.06-.94 2.06-2.06.94zm-11 1L8.5 8.5l.94-2.06 2.06-.94-2.06-.94L8.5 2.5l-.94 2.06-2.06.94zm10 10l.94 2.06.94-2.06 2.06-.94-2.06-.94-.94-2.06-.94 2.06-2.06.94z\"/><path d=\"M17.41 7.96l-1.37-1.37c-.4-.4-.92-.59-1.43-.59-.52 0-1.04.2-1.43.59L10.3 9.45l-7.72 7.72c-.78.78-.78 2.05 0 2.83L4 21.41c.39.39.9.59 1.41.59.51 0 1.02-.2 1.41-.59l7.78-7.78 2.81-2.81c.8-.78.8-2.07 0-2.86zM5.41 20L4 18.59l7.72-7.72 1.47 1.35L5.41 20z\"/>\n",
              "  </svg>\n",
              "      </button>\n",
              "      \n",
              "  <style>\n",
              "    .colab-df-container {\n",
              "      display:flex;\n",
              "      flex-wrap:wrap;\n",
              "      gap: 12px;\n",
              "    }\n",
              "\n",
              "    .colab-df-convert {\n",
              "      background-color: #E8F0FE;\n",
              "      border: none;\n",
              "      border-radius: 50%;\n",
              "      cursor: pointer;\n",
              "      display: none;\n",
              "      fill: #1967D2;\n",
              "      height: 32px;\n",
              "      padding: 0 0 0 0;\n",
              "      width: 32px;\n",
              "    }\n",
              "\n",
              "    .colab-df-convert:hover {\n",
              "      background-color: #E2EBFA;\n",
              "      box-shadow: 0px 1px 2px rgba(60, 64, 67, 0.3), 0px 1px 3px 1px rgba(60, 64, 67, 0.15);\n",
              "      fill: #174EA6;\n",
              "    }\n",
              "\n",
              "    [theme=dark] .colab-df-convert {\n",
              "      background-color: #3B4455;\n",
              "      fill: #D2E3FC;\n",
              "    }\n",
              "\n",
              "    [theme=dark] .colab-df-convert:hover {\n",
              "      background-color: #434B5C;\n",
              "      box-shadow: 0px 1px 3px 1px rgba(0, 0, 0, 0.15);\n",
              "      filter: drop-shadow(0px 1px 2px rgba(0, 0, 0, 0.3));\n",
              "      fill: #FFFFFF;\n",
              "    }\n",
              "  </style>\n",
              "\n",
              "      <script>\n",
              "        const buttonEl =\n",
              "          document.querySelector('#df-9531ffa3-4fa8-4c56-b570-c2a38079e547 button.colab-df-convert');\n",
              "        buttonEl.style.display =\n",
              "          google.colab.kernel.accessAllowed ? 'block' : 'none';\n",
              "\n",
              "        async function convertToInteractive(key) {\n",
              "          const element = document.querySelector('#df-9531ffa3-4fa8-4c56-b570-c2a38079e547');\n",
              "          const dataTable =\n",
              "            await google.colab.kernel.invokeFunction('convertToInteractive',\n",
              "                                                     [key], {});\n",
              "          if (!dataTable) return;\n",
              "\n",
              "          const docLinkHtml = 'Like what you see? Visit the ' +\n",
              "            '<a target=\"_blank\" href=https://colab.research.google.com/notebooks/data_table.ipynb>data table notebook</a>'\n",
              "            + ' to learn more about interactive tables.';\n",
              "          element.innerHTML = '';\n",
              "          dataTable['output_type'] = 'display_data';\n",
              "          await google.colab.output.renderOutput(dataTable, element);\n",
              "          const docLink = document.createElement('div');\n",
              "          docLink.innerHTML = docLinkHtml;\n",
              "          element.appendChild(docLink);\n",
              "        }\n",
              "      </script>\n",
              "    </div>\n",
              "  </div>\n",
              "  "
            ]
          },
          "metadata": {},
          "execution_count": 98
        }
      ]
    },
    {
      "cell_type": "code",
      "source": [
        "def plot_loss(history):\n",
        "   plt.plot(history.history['loss'], label='loss')\n",
        "   plt.plot(history.history['val_loss'], label='val_loss')\n",
        "   plt.xlabel('Epoch')\n",
        "   plt.ylabel('Error [kWh]')\n",
        "   plt.legend()\n",
        "   plt.grid(True)"
      ],
      "metadata": {
        "id": "sErk6ABUfI_0"
      },
      "execution_count": 100,
      "outputs": []
    },
    {
      "cell_type": "code",
      "source": [
        " plot_loss(history)\n"
      ],
      "metadata": {
        "colab": {
          "base_uri": "https://localhost:8080/",
          "height": 283
        },
        "id": "jT55sp31fJCC",
        "outputId": "b7358730-4a80-465a-cd9e-898e5f56c937"
      },
      "execution_count": 101,
      "outputs": [
        {
          "output_type": "display_data",
          "data": {
            "text/plain": [
              "<Figure size 432x288 with 1 Axes>"
            ],
            "image/png": "[encoded data removed]"
          },
          "metadata": {
            "needs_background": "light"
          }
        }
      ]
    },
    {
      "cell_type": "code",
      "source": [
        "##Prepare test set\n",
        "test_df['Month'] = test_df.Date.str.split('/').str[0].astype(float)\n",
        "test_df['Days'] = test_df.Date.str.split('/').str[1].astype(float)\n",
        "test_df['Hour'] = test_df.Time.str.split(':').str[0].astype(float)\n",
        "test_df = test_df.drop(columns=['Date','Time'])\n",
        "test_df.tail()\n",
        "\n"
      ],
      "metadata": {
        "colab": {
          "base_uri": "https://localhost:8080/",
          "height": 206
        },
        "id": "6e7UVyZpfJET",
        "outputId": "b76e32f3-66f1-4a33-a702-1e9b8ce7dcfb"
      },
      "execution_count": 146,
      "outputs": [
        {
          "output_type": "execute_result",
          "data": {
            "text/plain": [
              "         ID  Month  Days  Hour\n",
              "6979  32133   10.0  18.0  20.0\n",
              "6980  32134   10.0  18.0  21.0\n",
              "6981  32135   10.0  18.0  22.0\n",
              "6982  32136   10.0  18.0  23.0\n",
              "6983  32137   10.0  18.0  24.0"
            ],
            "text/html": [
              "\n",
              "  <div id=\"df-f770b0e2-42a7-4eb9-9828-adcd17a779a2\">\n",
              "    <div class=\"colab-df-container\">\n",
              "      <div>\n",
              "<style scoped>\n",
              "    .dataframe tbody tr th:only-of-type {\n",
              "        vertical-align: middle;\n",
              "    }\n",
              "\n",
              "    .dataframe tbody tr th {\n",
              "        vertical-align: top;\n",
              "    }\n",
              "\n",
              "    .dataframe thead th {\n",
              "        text-align: right;\n",
              "    }\n",
              "</style>\n",
              "<table border=\"1\" class=\"dataframe\">\n",
              "  <thead>\n",
              "    <tr style=\"text-align: right;\">\n",
              "      <th></th>\n",
              "      <th>ID</th>\n",
              "      <th>Month</th>\n",
              "      <th>Days</th>\n",
              "      <th>Hour</th>\n",
              "    </tr>\n",
              "  </thead>\n",
              "  <tbody>\n",
              "    <tr>\n",
              "      <th>6979</th>\n",
              "      <td>32133</td>\n",
              "      <td>10.0</td>\n",
              "      <td>18.0</td>\n",
              "      <td>20.0</td>\n",
              "    </tr>\n",
              "    <tr>\n",
              "      <th>6980</th>\n",
              "      <td>32134</td>\n",
              "      <td>10.0</td>\n",
              "      <td>18.0</td>\n",
              "      <td>21.0</td>\n",
              "    </tr>\n",
              "    <tr>\n",
              "      <th>6981</th>\n",
              "      <td>32135</td>\n",
              "      <td>10.0</td>\n",
              "      <td>18.0</td>\n",
              "      <td>22.0</td>\n",
              "    </tr>\n",
              "    <tr>\n",
              "      <th>6982</th>\n",
              "      <td>32136</td>\n",
              "      <td>10.0</td>\n",
              "      <td>18.0</td>\n",
              "      <td>23.0</td>\n",
              "    </tr>\n",
              "    <tr>\n",
              "      <th>6983</th>\n",
              "      <td>32137</td>\n",
              "      <td>10.0</td>\n",
              "      <td>18.0</td>\n",
              "      <td>24.0</td>\n",
              "    </tr>\n",
              "  </tbody>\n",
              "</table>\n",
              "</div>\n",
              "      <button class=\"colab-df-convert\" onclick=\"convertToInteractive('df-f770b0e2-42a7-4eb9-9828-adcd17a779a2')\"\n",
              "              title=\"Convert this dataframe to an interactive table.\"\n",
              "              style=\"display:none;\">\n",
              "        \n",
              "  <svg xmlns=\"http://www.w3.org/2000/svg\" height=\"24px\"viewBox=\"0 0 24 24\"\n",
              "       width=\"24px\">\n",
              "    <path d=\"M0 0h24v24H0V0z\" fill=\"none\"/>\n",
              "    <path d=\"M18.56 5.44l.94 2.06.94-2.06 2.06-.94-2.06-.94-.94-2.06-.94 2.06-2.06.94zm-11 1L8.5 8.5l.94-2.06 2.06-.94-2.06-.94L8.5 2.5l-.94 2.06-2.06.94zm10 10l.94 2.06.94-2.06 2.06-.94-2.06-.94-.94-2.06-.94 2.06-2.06.94z\"/><path d=\"M17.41 7.96l-1.37-1.37c-.4-.4-.92-.59-1.43-.59-.52 0-1.04.2-1.43.59L10.3 9.45l-7.72 7.72c-.78.78-.78 2.05 0 2.83L4 21.41c.39.39.9.59 1.41.59.51 0 1.02-.2 1.41-.59l7.78-7.78 2.81-2.81c.8-.78.8-2.07 0-2.86zM5.41 20L4 18.59l7.72-7.72 1.47 1.35L5.41 20z\"/>\n",
              "  </svg>\n",
              "      </button>\n",
              "      \n",
              "  <style>\n",
              "    .colab-df-container {\n",
              "      display:flex;\n",
              "      flex-wrap:wrap;\n",
              "      gap: 12px;\n",
              "    }\n",
              "\n",
              "    .colab-df-convert {\n",
              "      background-color: #E8F0FE;\n",
              "      border: none;\n",
              "      border-radius: 50%;\n",
              "      cursor: pointer;\n",
              "      display: none;\n",
              "      fill: #1967D2;\n",
              "      height: 32px;\n",
              "      padding: 0 0 0 0;\n",
              "      width: 32px;\n",
              "    }\n",
              "\n",
              "    .colab-df-convert:hover {\n",
              "      background-color: #E2EBFA;\n",
              "      box-shadow: 0px 1px 2px rgba(60, 64, 67, 0.3), 0px 1px 3px 1px rgba(60, 64, 67, 0.15);\n",
              "      fill: #174EA6;\n",
              "    }\n",
              "\n",
              "    [theme=dark] .colab-df-convert {\n",
              "      background-color: #3B4455;\n",
              "      fill: #D2E3FC;\n",
              "    }\n",
              "\n",
              "    [theme=dark] .colab-df-convert:hover {\n",
              "      background-color: #434B5C;\n",
              "      box-shadow: 0px 1px 3px 1px rgba(0, 0, 0, 0.15);\n",
              "      filter: drop-shadow(0px 1px 2px rgba(0, 0, 0, 0.3));\n",
              "      fill: #FFFFFF;\n",
              "    }\n",
              "  </style>\n",
              "\n",
              "      <script>\n",
              "        const buttonEl =\n",
              "          document.querySelector('#df-f770b0e2-42a7-4eb9-9828-adcd17a779a2 button.colab-df-convert');\n",
              "        buttonEl.style.display =\n",
              "          google.colab.kernel.accessAllowed ? 'block' : 'none';\n",
              "\n",
              "        async function convertToInteractive(key) {\n",
              "          const element = document.querySelector('#df-f770b0e2-42a7-4eb9-9828-adcd17a779a2');\n",
              "          const dataTable =\n",
              "            await google.colab.kernel.invokeFunction('convertToInteractive',\n",
              "                                                     [key], {});\n",
              "          if (!dataTable) return;\n",
              "\n",
              "          const docLinkHtml = 'Like what you see? Visit the ' +\n",
              "            '<a target=\"_blank\" href=https://colab.research.google.com/notebooks/data_table.ipynb>data table notebook</a>'\n",
              "            + ' to learn more about interactive tables.';\n",
              "          element.innerHTML = '';\n",
              "          dataTable['output_type'] = 'display_data';\n",
              "          await google.colab.output.renderOutput(dataTable, element);\n",
              "          const docLink = document.createElement('div');\n",
              "          docLink.innerHTML = docLinkHtml;\n",
              "          element.appendChild(docLink);\n",
              "        }\n",
              "      </script>\n",
              "    </div>\n",
              "  </div>\n",
              "  "
            ]
          },
          "metadata": {},
          "execution_count": 146
        }
      ]
    },
    {
      "cell_type": "code",
      "execution_count": 109,
      "metadata": {
        "id": "YIPQO0OSklli"
      },
      "outputs": [],
      "source": [
        "test_features = test_df.copy()\n",
        "LR_One_df = hour_model.predict(test_features['Hour'])"
      ]
    },
    {
      "cell_type": "code",
      "source": [
        "result = pd.DataFrame(LR_One_df,\n",
        "columns =␣\n",
        ",→['Wind_Energy_1','Wind_Energy_2','Wind_Energy_3'],\n",
        "index = test_df['ID'])\n",
        "result.to_csv('/content/drive/MyDrive/Colab Notebooks/ai_dataset/solution_lr.\n",
        ",→csv')"
      ],
      "metadata": {
        "colab": {
          "base_uri": "https://localhost:8080/",
          "height": 137
        },
        "id": "qinVVLAXgAKM",
        "outputId": "60a3a804-3750-4b85-bad5-efcfaa93de67"
      },
      "execution_count": 150,
      "outputs": [
        {
          "output_type": "error",
          "ename": "SyntaxError",
          "evalue": "ignored",
          "traceback": [
            "\u001b[0;36m  File \u001b[0;32m\"<ipython-input-150-4e0aed1e4f9f>\"\u001b[0;36m, line \u001b[0;32m2\u001b[0m\n\u001b[0;31m    columns =␣\u001b[0m\n\u001b[0m             ^\u001b[0m\n\u001b[0;31mSyntaxError\u001b[0m\u001b[0;31m:\u001b[0m invalid character in identifier\n"
          ]
        }
      ]
    },
    {
      "cell_type": "code",
      "source": [
        "!tensorboard dev upload --logdir ./logs \n",
        "  --name \"First DL model\" \\\n",
        "  --descrption \"Training results\" \\\n",
        "  --one_shot \\"
      ],
      "metadata": {
        "colab": {
          "base_uri": "https://localhost:8080/",
          "height": 137
        },
        "id": "bl-LfV_VgATN",
        "outputId": "f292dccb-d605-4692-93ad-17b366704d49"
      },
      "execution_count": 151,
      "outputs": [
        {
          "output_type": "error",
          "ename": "IndentationError",
          "evalue": "ignored",
          "traceback": [
            "\u001b[0;36m  File \u001b[0;32m\"<ipython-input-151-8322630dc0a6>\"\u001b[0;36m, line \u001b[0;32m2\u001b[0m\n\u001b[0;31m    --name \"First DL model\"   --descrption \"Training results\"   --one_shot\u001b[0m\n\u001b[0m    ^\u001b[0m\n\u001b[0;31mIndentationError\u001b[0m\u001b[0;31m:\u001b[0m unexpected indent\n"
          ]
        }
      ]
    },
    {
      "cell_type": "code",
      "source": [
        "## Generate the test.cvs results and submitted to kaggle.com"
      ],
      "metadata": {
        "id": "llsOUZfMiBIL"
      },
      "execution_count": 137,
      "outputs": []
    },
    {
      "cell_type": "code",
      "source": [
        ""
      ],
      "metadata": {
        "id": "XRPQSblsiBKS"
      },
      "execution_count": null,
      "outputs": []
    },
    {
      "cell_type": "code",
      "source": [
        ""
      ],
      "metadata": {
        "id": "YLQc4hgbiBMb"
      },
      "execution_count": null,
      "outputs": []
    },
    {
      "cell_type": "code",
      "source": [
        ""
      ],
      "metadata": {
        "id": "u-FKqrfJiBOb"
      },
      "execution_count": null,
      "outputs": []
    },
    {
      "cell_type": "code",
      "source": [
        ""
      ],
      "metadata": {
        "id": "kQpvFXdxiBQT"
      },
      "execution_count": null,
      "outputs": []
    },
    {
      "cell_type": "code",
      "source": [
        ""
      ],
      "metadata": {
        "id": "SSNDEvTNgAVb"
      },
      "execution_count": null,
      "outputs": []
    }
  ],
  "metadata": {
    "kernelspec": {
      "display_name": "Python 3 (ipykernel)",
      "language": "python",
      "name": "python3"
    },
    "language_info": {
      "codemirror_mode": {
        "name": "ipython",
        "version": 3
      },
      "file_extension": ".py",
      "mimetype": "text/x-python",
      "name": "python",
      "nbconvert_exporter": "python",
      "pygments_lexer": "ipython3",
      "version": "3.7.11"
    },
    "colab": {
      "name": "Final_Project.ipynb",
      "provenance": []
    }
  },
  "nbformat": 4,
  "nbformat_minor": 0
}