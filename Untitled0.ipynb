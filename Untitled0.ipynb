{
  "nbformat": 4,
  "nbformat_minor": 0,
  "metadata": {
    "colab": {
      "name": "Untitled0.ipynb",
      "provenance": [],
      "authorship_tag": "ABX9TyMmMyC1NEf77EgYP0Hq9Clu",
      "include_colab_link": true
    },
    "kernelspec": {
      "name": "python3",
      "display_name": "Python 3"
    },
    "language_info": {
      "name": "python"
    }
  },
  "cells": [
    {
      "cell_type": "markdown",
      "metadata": {
        "id": "view-in-github",
        "colab_type": "text"
      },
      "source": [
        "<a href=\"https://colab.research.google.com/github/duwjfjd/duwjfjd/blob/main/Untitled0.ipynb\" target=\"_parent\"><img src=\"https://colab.research.google.com/assets/colab-badge.svg\" alt=\"Open In Colab\"/></a>"
      ]
    },
    {
      "cell_type": "code",
      "execution_count": 37,
      "metadata": {
        "id": "9qWz5mY9k9MT"
      },
      "outputs": [],
      "source": [
        "# * Full Name:  park yu rim\n",
        "# * Student ID: 201902905\n",
        "# * GitHub ID: duwjfjd\n",
        "# * Faculty/ Major: IME\n",
        "# * Interest research areas: \n",
        "# * Date: 202-03-10"
      ]
    },
    {
      "cell_type": "code",
      "source": [
        ""
      ],
      "metadata": {
        "id": "A1iBVbQNnDS3"
      },
      "execution_count": null,
      "outputs": []
    },
    {
      "cell_type": "markdown",
      "source": [
        "# YOUR CODE HER\n",
        "# Step 1: Create and populate a 6x2 NumPy array. * any number \n",
        "\n",
        "\n",
        "# Step 2: Create a Python list that holds the names of the two columns.\n",
        "\n",
        "\n",
        "# Step 3: Create a DataFrame with the two previous steps.\n",
        "\n",
        "\n",
        "# Step 4: Print the entire DataFrame"
      ],
      "metadata": {
        "id": "_TCpPpLsl6QY"
      }
    },
    {
      "cell_type": "code",
      "source": [
        "# YOUR CODE HERE\n",
        "# Step 1: Create and populate a 6x2 NumPy array. * any number:12. 4\n",
        "\n",
        "\n",
        "# Step 2: Create a Python list that holds the names of the two columns.\n",
        "\n",
        "\n",
        "# Step 3: Create a DataFrame with the two previous steps.\n",
        "\n",
        "\n",
        "# Step 4: Print the entire DataFrame"
      ],
      "metadata": {
        "id": "7z9lj7EGmFvH"
      },
      "execution_count": null,
      "outputs": []
    },
    {
      "cell_type": "code",
      "source": [
        "# Step 1: Create and populate a 6x2 NumPy array. * any number\n",
        "\n",
        "\n",
        "# Step 2: Create a Python list that holds the names of the two columns.\n",
        "\n",
        "\n",
        "# Step 3: Create a DataFrame with the two previous steps.\n",
        "\n",
        "\n",
        "# Step 4: Print the entire DataFrame"
      ],
      "metadata": {
        "id": "0KFAF0Y8nD_G"
      },
      "execution_count": null,
      "outputs": []
    }
  ]
}